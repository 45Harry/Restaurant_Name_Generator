{
 "cells": [
  {
   "cell_type": "code",
   "execution_count": 9,
   "id": "4cff1d1b-12d7-4f5d-8364-51909e04b79b",
   "metadata": {},
   "outputs": [],
   "source": [
    "import os\n",
    "from secret_key import grok_key\n",
    "from secret_key import serpapi_key\n",
    "os.environ['SERPAPI_API_KEY'] = serpapi_key\n",
    "os.environ['GROQ_API_KEY'] = grok_key"
   ]
  },
  {
   "cell_type": "code",
   "execution_count": 2,
   "id": "b991a4e0-4e49-4c52-999a-cf9a8c29a701",
   "metadata": {},
   "outputs": [
    {
     "name": "stderr",
     "output_type": "stream",
     "text": [
      "/tmp/ipykernel_76925/1528861184.py:21: LangChainDeprecationWarning: The class `LLMChain` was deprecated in LangChain 0.1.17 and will be removed in 1.0. Use :meth:`~RunnableSequence, e.g., `prompt | llm`` instead.\n",
      "  chain = LLMChain(llm=llm, prompt=prompt_template_name)\n"
     ]
    },
    {
     "name": "stdout",
     "output_type": "stream",
     "text": [
      "Tandoori Nights\n"
     ]
    }
   ],
   "source": [
    "import os\n",
    "from secret_key import grok_key\n",
    "from langchain.chains import LLMChain\n",
    "from langchain.prompts import PromptTemplate\n",
    "from langchain_groq import ChatGroq  # Requires langchain-groq package\n",
    "\n",
    "# Initialize Groq LLM\n",
    "llm = ChatGroq(\n",
    "    temperature=0.6,\n",
    "    model_name=\"llama-3.3-70b-versatile\",\n",
    "    api_key=grok_key\n",
    ")\n",
    "\n",
    "# Create prompt template\n",
    "prompt_template_name = PromptTemplate(\n",
    "    input_variables=['cuisine'],\n",
    "    template='I want to open a restaurant for {cuisine} food. Suggest a single fancy name for this.No presemble'\n",
    ")\n",
    "\n",
    "# Create chain\n",
    "chain = LLMChain(llm=llm, prompt=prompt_template_name)\n",
    "\n",
    "# Run the chain\n",
    "result = chain.invoke('indian')\n",
    "print(result['text'])"
   ]
  },
  {
   "cell_type": "markdown",
   "id": "90cda826-3bd4-4e60-b248-95e67cd26265",
   "metadata": {},
   "source": [
    "### Now Creating a simplesequentialchain to generate name and some food items as well"
   ]
  },
  {
   "cell_type": "code",
   "execution_count": 3,
   "id": "5e076564-8a6c-46cd-9e3c-a756c3a3f479",
   "metadata": {},
   "outputs": [],
   "source": [
    "# Initialize Groq LLM\n",
    "llm = ChatGroq(\n",
    "    temperature=0.6,\n",
    "    model_name=\"llama-3.3-70b-versatile\",\n",
    "    api_key=grok_key\n",
    ")\n",
    "\n",
    "# Create prompt template\n",
    "prompt_template_name = PromptTemplate(\n",
    "    input_variables=['cuisine'],\n",
    "    template='I want to open a restaurant for {cuisine} food. Suggest a single fancy name for this.No presemble'\n",
    ")\n",
    "\n",
    "# Create chain\n",
    "name_chain = LLMChain(llm=llm, prompt=prompt_template_name)\n",
    "\n",
    "prompt_template_items = PromptTemplate(\n",
    "    input_variables = ['restaurant_name'],\n",
    "    template = 'Suggest some menu items for {restaurant_name}. Return it as a comma seperated list'\n",
    ")\n",
    "\n",
    "food_items_chain = LLMChain(llm=llm,prompt=prompt_template_items)\n"
   ]
  },
  {
   "cell_type": "code",
   "execution_count": 4,
   "id": "3aaf6a4d-5824-4a34-9aba-439ef13e23ff",
   "metadata": {},
   "outputs": [
    {
     "name": "stdout",
     "output_type": "stream",
     "text": [
      "{'input': 'Nepali', 'output': 'Momos, Thukpa, Gurkhali Lamb, Chicken Tikka Masala, Palak Paneer, Naan Bread, Basmati Rice, Samosas, Gulab Jamun, Jalebi, Himalayan Tea, Mango Lassi, Yak Cheese Soup, Sel Roti, Aloo Tama, Momo Ko Achaar, Kwati Soup.'}\n"
     ]
    }
   ],
   "source": [
    "from langchain.chains import SimpleSequentialChain\n",
    "\n",
    "chain = SimpleSequentialChain(chains = [name_chain,food_items_chain])\n",
    "\n",
    "response = chain.invoke('Nepali')\n",
    "\n",
    "print(response)"
   ]
  },
  {
   "cell_type": "markdown",
   "id": "14e6426a-f233-401a-a05c-ff05481cdadb",
   "metadata": {},
   "source": [
    "### Sequentail Chain for multiple outputs and multiple inpust"
   ]
  },
  {
   "cell_type": "code",
   "execution_count": 5,
   "id": "3f45fd65-4609-4df4-9da4-27f5324620e2",
   "metadata": {},
   "outputs": [],
   "source": [
    "# Initialize Groq LLM\n",
    "llm = ChatGroq(\n",
    "    temperature=0.6,\n",
    "    model_name=\"llama-3.3-70b-versatile\",\n",
    "    api_key=grok_key\n",
    ")\n",
    "\n",
    "# Create prompt template\n",
    "prompt_template_name = PromptTemplate(\n",
    "    input_variables=['cuisine'],\n",
    "    template='I want to open a restaurant for {cuisine} food. Suggest a single fancy name for this.No presemble'\n",
    ")\n",
    "\n",
    "# Create chain\n",
    "name_chain = LLMChain(llm=llm, prompt=prompt_template_name,output_key = 'restaurant_name')\n",
    "\n",
    "llm = ChatGroq(temperature=0.7,model_name=\"llama-3.3-70b-versatile\",api_key=grok_key\n",
    ")\n",
    "\n",
    "prompt_template_items = PromptTemplate(\n",
    "    input_variables = ['restaurant_name'],\n",
    "    template = 'Suggest some menu items for {restaurant_name}. Return it as a comma seperated list'\n",
    ")\n",
    "\n",
    "food_items_chain = LLMChain(llm=llm,prompt=prompt_template_items,output_key='menu_items')\n"
   ]
  },
  {
   "cell_type": "code",
   "execution_count": 6,
   "id": "eeb1e636-d26a-4fff-a9a6-d09ed214ee52",
   "metadata": {},
   "outputs": [
    {
     "name": "stdout",
     "output_type": "stream",
     "text": [
      "{'cuisine': 'Nepali', 'restaurant_name': 'Himalayan Bazaar.', 'menu_items': 'Momos, Thukpa, Gorkhali Lamb, Chicken Tikka Masala, Palak Paneer, Naan Bread, Basmati Rice, Samosas, Gulab Jamun, Jalebi, Himalayan Tea, Sel Roti, Alu Tama, Kwati Soup, Momo Soup, Yak Cheese Plate.'}\n"
     ]
    }
   ],
   "source": [
    "from langchain.chains import SequentialChain\n",
    "\n",
    "chain = SequentialChain(\n",
    "    chains = [name_chain,food_items_chain],\n",
    "    input_variables = ['cuisine'],\n",
    "    output_variables=['restaurant_name','menu_items'])\n",
    "\n",
    "response = chain.invoke({'cuisine':'Nepali'})\n",
    "\n",
    "print(response)"
   ]
  },
  {
   "cell_type": "markdown",
   "id": "cc4f8cc8-1c22-4a85-bf10-cb503349fa37",
   "metadata": {},
   "source": [
    "# AI AGents"
   ]
  },
  {
   "cell_type": "code",
   "execution_count": 7,
   "id": "afb6fa54-9512-4332-ad96-a9c06d516f90",
   "metadata": {},
   "outputs": [
    {
     "name": "stderr",
     "output_type": "stream",
     "text": [
      "/tmp/ipykernel_76925/1462476812.py:13: LangChainDeprecationWarning: LangChain agents will continue to be supported, but it is recommended for new use cases to be built with LangGraph. LangGraph offers a more flexible and full-featured framework for building agents, including support for tool-calling, persistence of state, and human-in-the-loop workflows. For details, refer to the `LangGraph documentation <https://langchain-ai.github.io/langgraph/>`_ as well as guides for `Migrating from AgentExecutor <https://python.langchain.com/docs/how_to/migrate_agent/>`_ and LangGraph's `Pre-built ReAct agent <https://langchain-ai.github.io/langgraph/how-tos/create-react-agent/>`_.\n",
      "  agent = initialize_agent(\n"
     ]
    },
    {
     "data": {
      "text/plain": [
       "{'input': 'When was Elon Musk Born? What is his age right now in 2025',\n",
       " 'output': 'Elon Musk was born on June 28, 1971, and his age in 2025 is 54.'}"
      ]
     },
     "execution_count": 7,
     "metadata": {},
     "output_type": "execute_result"
    }
   ],
   "source": [
    "from langchain.agents import AgentType,initialize_agent,load_tools\n",
    "from langchain_groq import ChatGroq  \n",
    "# Initialize Groq LLM\n",
    "llms = ChatGroq(\n",
    "    temperature=0.6,\n",
    "    model_name=\"llama-3.3-70b-versatile\",\n",
    "    api_key=grok_key)\n",
    "\n",
    "\n",
    "tools = load_tools(['wikipedia','llm-math'], llm := llms)\n",
    "\n",
    "\n",
    "agent = initialize_agent(\n",
    "    tools,\n",
    "    llm,\n",
    "    agent=AgentType.ZERO_SHOT_REACT_DESCRIPTION,\n",
    "    verbose = False\n",
    ")\n",
    "\n",
    "agent.invoke('When was Elon Musk Born? What is his age right now in 2025')\n"
   ]
  },
  {
   "cell_type": "code",
   "execution_count": null,
   "id": "ae66864f-1138-4ac4-a815-bbe8801c1d02",
   "metadata": {},
   "outputs": [],
   "source": []
  },
  {
   "cell_type": "code",
   "execution_count": 12,
   "id": "db28c346-ffbb-4b05-a3f2-359e37128071",
   "metadata": {},
   "outputs": [
    {
     "name": "stdout",
     "output_type": "stream",
     "text": [
      "\n",
      "\n",
      "\u001b[1m> Entering new AgentExecutor chain...\u001b[0m\n",
      "\u001b[32;1m\u001b[1;3mTo find the GDP of Nepal in 2025 in Nepali Rupees, I need to first find the current GDP of Nepal and then convert it to Nepali Rupees. Since I don't have real-time data, I will use the Search tool to find the required information.\n",
      "\n",
      "Action: Search\n",
      "Action Input: Nepal GDP 2025\u001b[0m\n",
      "Observation: \u001b[36;1m\u001b[1;3m[\"In 2025, Nepal's Gross Domestic Product (GDP) is projected to be $36.5 billion at constant 2015 prices, according to World Economics. The GDP per capita is estimated to be $1,555 nominally and $5,610 in terms of Purchasing Power Parity (PPP), according to Wikipedia. The nominal GDP is expected to be $50.83 billion.\", ' entity_type: related_questions.', \"KATHMANDU, April 3, 2025—Nepal's economy is projected to grow 4.5 percent in FY25, up from 3.9 percent in FY24, despite significant natural ...\", \"Nepal GDP: $148 Billion\\u200b\\u200b Looking ahead to 2025, projections suggest Nepal's 2025 GDP estimate could be $155.3 Billion. This Nepal GDP growth forecast for 2024 ...\", \"World Economics estimates Nepal's 2024 GDP at $243 billion in PPP terms (Purchasing Power Parity) and an initial estimate of $255 billion for 2025.\", 'Real GDP grew by 4.9 percent in H1FY25, up from 4.3 percent in H1FY24, primarily due to a pickup in agricultural and industrial sectors growth, ...', 'Annual percent change. 4.9. Created with Highcharts 6.1.4. 2025. Nepal. GDP, current prices. Billions of U.S. dollars. 47.83. Created with Highcharts 6.1.4.', 'Nepal GDP for 2023 was 40.91 billion US dollars, a 0.67% decline from 2022. · Nepal GDP for 2022 was 41.18 billion US dollars, a 11.53% increase from 2021.', \"Nepal's economy is anticipated to grow by 4.4% in fiscal year (FY) 2025, up from an estimated growth of 3.9% in FY2024, says the Asian ...\", \"World Economics estimates Nepal's 2024 GDP at $243 billion in PPP terms (Purchasing Power Parity) and an initial estimate of $255 billion for 2025.\", 'Nepal gdp growth rate for 2023 was 1.95%, a 3.68% decline from 2022. · Nepal gdp growth rate for 2022 was 5.63%, a 0.79% increase from 2021. · Nepal gdp growth ...']\u001b[0m\n",
      "Thought:\u001b[32;1m\u001b[1;3mThe search results provide various estimates of Nepal's GDP in 2025, but they are all in US dollars. To find the GDP in Nepali Rupees, I need to find the exchange rate between US dollars and Nepali Rupees.\n",
      "\n",
      "Action: Search\n",
      "Action Input: US dollar to Nepali Rupee exchange rate 2025\u001b[0m\n",
      "Observation: \u001b[36;1m\u001b[1;3m[' entity_type: related_questions.', 'Best exchange rate: 140.7497 NPR on 02 Feb 2025. Average exchange rate in 2025: 138.2171 NPR.', 'Mid-market exchange rate at 22 Apr 2025 ... The highest US dollar to Nepalese rupees rate was on February 7, 2025 when 1 US dollar was worth 140.1320 Nepalese ...', 'The average US Dollar to Nepalese Rupee exchange rate in 2025 was 1 US Dollar = 138.35 Nepalese Rupee. What was the highest US Dollar to Nepalese Rupee exchange ...', 'In 2025, the exchange rate between the US dollar and the Nepalese Rupee is anticipated to range between Rs 129.48 and Rs 137.01, leading to an average ...', 'During the past week, the exchange rate of US dollar to Nepalese rupees has fluctuated between a high of 137,668 on 15-04-2025 and a low of 136,144 on 21-04- ...', 'The average USD/NPR exchange rate for 2025 is 138.24 Nepalese Rupees per US Dollar ... What was the highest US Dollar to Nepalese Rupee exchange ...', 'Sat 19/04/2025, 1 USD = 136.5069 NPR. Fri 18/04/2025, 1 USD = 136.5069 NPR. Thu 17/04/2025, 1 USD = 136.5069 NPR. Wed 16/04/2025, 1 USD = 137.228 NPR.', 'Nepal Rastra Bank नेपाल राष्ट्र बैंक ; usd (U.S. Dollar) · 135.91, 136.51 ; eur (European Euro) · 156.70, 157.39 ; gbp (UK Pound Sterling) · 181.93, 182.73.', 'Table of 1 US Dollar to Nepalese Rupee Exchange Rate ; Saturday 12 April 2025, 1 USD = 137.46 NPR, 137.46 ; Friday 11 April 2025, 1 USD = 137.78 NPR, 137.85 ...', 'Track currency. View transfer quote. USD to NPR Chart. +2.19%. (1Y). US Dollar to Nepalese Rupee. 1 USD = 136.668 NPR. Apr 19, 2025, 08:58 UTC. 12H 1D 1W 1M 1Y']\u001b[0m\n",
      "Thought:\u001b[32;1m\u001b[1;3mThe search results provide various estimates of the exchange rate between US dollars and Nepali Rupees in 2025. To find the GDP of Nepal in 2025 in Nepali Rupees, I can use the average exchange rate provided in the search results.\n",
      "\n",
      "Action: Calculator\n",
      "Action Input: 47.83 * 138.24\u001b[0m\n",
      "Observation: \u001b[33;1m\u001b[1;3mAnswer: 6612.019200000001\u001b[0m\n",
      "Thought:\u001b[32;1m\u001b[1;3mI now know the final answer. \n",
      "Final Answer: The GDP of Nepal in 2025 in Nepali Rupees is approximately 6612 billion Nepali Rupees.\u001b[0m\n",
      "\n",
      "\u001b[1m> Finished chain.\u001b[0m\n"
     ]
    },
    {
     "data": {
      "text/plain": [
       "{'input': 'what was the gdp of nepal in 2025 in nepali rupeees )',\n",
       " 'output': 'The GDP of Nepal in 2025 in Nepali Rupees is approximately 6612 billion Nepali Rupees.'}"
      ]
     },
     "execution_count": 12,
     "metadata": {},
     "output_type": "execute_result"
    }
   ],
   "source": [
    "# Now using serpapi \n",
    "\n",
    "llms = ChatGroq(\n",
    "    temperature=0.6,\n",
    "    model_name=\"llama-3.3-70b-versatile\")\n",
    "\n",
    "\n",
    "tools = load_tools(['serpapi','llm-math'], llm := llms)\n",
    "\n",
    "\n",
    "agent = initialize_agent(\n",
    "    tools,\n",
    "    llm,\n",
    "    agent=AgentType.ZERO_SHOT_REACT_DESCRIPTION,\n",
    "    verbose = True)\n",
    "\n",
    "agent.invoke('what was the gdp of nepal in 2025 in nepali rupeees )')\n",
    "    "
   ]
  },
  {
   "cell_type": "code",
   "execution_count": null,
   "id": "e52882d8-b5aa-4cd0-9b7b-ed5a4b2020ed",
   "metadata": {},
   "outputs": [],
   "source": []
  },
  {
   "cell_type": "code",
   "execution_count": null,
   "id": "1f6a077a-cbaf-456c-aa73-1170f7711a85",
   "metadata": {},
   "outputs": [],
   "source": []
  }
 ],
 "metadata": {
  "kernelspec": {
   "display_name": "Python 3 (ipykernel)",
   "language": "python",
   "name": "python3"
  },
  "language_info": {
   "codemirror_mode": {
    "name": "ipython",
    "version": 3
   },
   "file_extension": ".py",
   "mimetype": "text/x-python",
   "name": "python",
   "nbconvert_exporter": "python",
   "pygments_lexer": "ipython3",
   "version": "3.13.3"
  }
 },
 "nbformat": 4,
 "nbformat_minor": 5
}
